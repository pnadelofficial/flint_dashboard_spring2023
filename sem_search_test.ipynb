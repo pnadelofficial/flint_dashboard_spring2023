{
 "cells": [
  {
   "cell_type": "code",
   "execution_count": 1,
   "metadata": {},
   "outputs": [
    {
     "data": {
      "text/html": [
       "<div>\n",
       "<style scoped>\n",
       "    .dataframe tbody tr th:only-of-type {\n",
       "        vertical-align: middle;\n",
       "    }\n",
       "\n",
       "    .dataframe tbody tr th {\n",
       "        vertical-align: top;\n",
       "    }\n",
       "\n",
       "    .dataframe thead th {\n",
       "        text-align: right;\n",
       "    }\n",
       "</style>\n",
       "<table border=\"1\" class=\"dataframe\">\n",
       "  <thead>\n",
       "    <tr style=\"text-align: right;\">\n",
       "      <th></th>\n",
       "      <th>Unnamed: 0</th>\n",
       "      <th>thread_index</th>\n",
       "      <th>parsed_email</th>\n",
       "      <th>image_lookup</th>\n",
       "      <th>From</th>\n",
       "      <th>Sent</th>\n",
       "      <th>To</th>\n",
       "      <th>Cc</th>\n",
       "      <th>Subject</th>\n",
       "      <th>Attachment</th>\n",
       "      <th>Body</th>\n",
       "    </tr>\n",
       "  </thead>\n",
       "  <tbody>\n",
       "    <tr>\n",
       "      <th>0</th>\n",
       "      <td>1</td>\n",
       "      <td>0</td>\n",
       "      <td>From: Julie Skubik &lt;julie@mhealthfund.com&gt; Sen...</td>\n",
       "      <td>Staff_4_0000.txt</td>\n",
       "      <td>Julie Skubik &lt;julie@mhealthfund.com</td>\n",
       "      <td>Wednesday, June 03, 2015 3.34 PM</td>\n",
       "      <td>[;, Wendy (GOV)]</td>\n",
       "      <td>[]</td>\n",
       "      <td>RE: Flint Water Situation MHEF Meeting</td>\n",
       "      <td>NaN</td>\n",
       "      <td>\\nThank you. Do you need meto send an invite?\\n</td>\n",
       "    </tr>\n",
       "    <tr>\n",
       "      <th>1</th>\n",
       "      <td>2</td>\n",
       "      <td>0</td>\n",
       "      <td>From: Wisniewski; Wendy (GOV) [mailto:wisniews...</td>\n",
       "      <td>Staff_4_0000.txt</td>\n",
       "      <td>Wisniewski; Wendy (GOV)</td>\n",
       "      <td>Wednesday, June 3,2015 3.33 PM</td>\n",
       "      <td>[Julie Skubik]</td>\n",
       "      <td>[]</td>\n",
       "      <td>RE: Flint Water Situation MHEF Meeting</td>\n",
       "      <td>NaN</td>\n",
       "      <td>\\nAbsclutely. Here is all of my contact inforr...</td>\n",
       "    </tr>\n",
       "    <tr>\n",
       "      <th>2</th>\n",
       "      <td>3</td>\n",
       "      <td>0</td>\n",
       "      <td>From: Julie Skubik [mailtotiule@mhealthfundcom...</td>\n",
       "      <td>Staff_4_0000.txt</td>\n",
       "      <td>Julie Skubik</td>\n",
       "      <td>Wednesday, June 03,2015 3.30 PM</td>\n",
       "      <td>[Wisniewski, Wendy (GOV)]</td>\n",
       "      <td>[]</td>\n",
       "      <td>FW: Flint Water Situation MHEF Meeting</td>\n",
       "      <td>NaN</td>\n",
       "      <td>\\nHi Wendy- June 10\"* at 11:0O am w} Paul Hill...</td>\n",
       "    </tr>\n",
       "    <tr>\n",
       "      <th>3</th>\n",
       "      <td>4</td>\n",
       "      <td>0</td>\n",
       "      <td>From: Hovey, Amy [mailto Amx Hovex@mailhousego...</td>\n",
       "      <td>Staff_4_0000.txt</td>\n",
       "      <td>Hovey, Amy</td>\n",
       "      <td>Wednesday, June 3,2015 1.56 PM</td>\n",
       "      <td>[Julie Skubik]</td>\n",
       "      <td>[]</td>\n",
       "      <td>RE: Flint Water Situation MHEF Meeting</td>\n",
       "      <td>NaN</td>\n",
       "      <td>\\nHi Julie\\nJune 10t at 11AMwculd be great, Wh...</td>\n",
       "    </tr>\n",
       "    <tr>\n",
       "      <th>4</th>\n",
       "      <td>5</td>\n",
       "      <td>0</td>\n",
       "      <td>From: Julie Skubik [mailto iulie@mhezlthfundco...</td>\n",
       "      <td>Staff_4_0000.txt</td>\n",
       "      <td>Julie Skubik</td>\n",
       "      <td>Wednesday, June 03, 2015 10.59 AM</td>\n",
       "      <td>[Hovey, Amy Subject:]</td>\n",
       "      <td>[]</td>\n",
       "      <td>Flint Water Situation MHEF Meeting</td>\n",
       "      <td>NaN</td>\n",
       "      <td>\\nXi Arny\" would Ilke to set up &amp; meeting with...</td>\n",
       "    </tr>\n",
       "    <tr>\n",
       "      <th>...</th>\n",
       "      <td>...</td>\n",
       "      <td>...</td>\n",
       "      <td>...</td>\n",
       "      <td>...</td>\n",
       "      <td>...</td>\n",
       "      <td>...</td>\n",
       "      <td>...</td>\n",
       "      <td>...</td>\n",
       "      <td>...</td>\n",
       "      <td>...</td>\n",
       "      <td>...</td>\n",
       "    </tr>\n",
       "    <tr>\n",
       "      <th>26154</th>\n",
       "      <td>32176</td>\n",
       "      <td>16920</td>\n",
       "      <td>From: Stoken, Laura (GOV) Sent: MondayDecember...</td>\n",
       "      <td>Staff_2_0920.txt</td>\n",
       "      <td>Stoken, Laura (GOV)</td>\n",
       "      <td>NaN</td>\n",
       "      <td>[]</td>\n",
       "      <td>[]</td>\n",
       "      <td>Executive Office of the Governor\\n</td>\n",
       "      <td>NaN</td>\n",
       "      <td>Dear Thank you for your recent correspondence ...</td>\n",
       "    </tr>\n",
       "    <tr>\n",
       "      <th>26155</th>\n",
       "      <td>32178</td>\n",
       "      <td>16921</td>\n",
       "      <td>From: Stoken, Laura (GOV) Sent: Mondav_Decembe...</td>\n",
       "      <td>Staff_2_0922.txt</td>\n",
       "      <td>Stoken, Laura (GOV)</td>\n",
       "      <td>NaN</td>\n",
       "      <td>[]</td>\n",
       "      <td>[]</td>\n",
       "      <td>Executive Office of the Governor\\n</td>\n",
       "      <td>NaN</td>\n",
       "      <td>Dear Thank you for your recent correspondence ...</td>\n",
       "    </tr>\n",
       "    <tr>\n",
       "      <th>26156</th>\n",
       "      <td>32180</td>\n",
       "      <td>16922</td>\n",
       "      <td>From: Stoken; Laura (GOV) Sent: Monday Decembe...</td>\n",
       "      <td>Staff_2_0924.txt</td>\n",
       "      <td>Stoken; Laura (GOV)</td>\n",
       "      <td>Monday December 28, 2015 10.50 AM</td>\n",
       "      <td>[]</td>\n",
       "      <td>[]</td>\n",
       "      <td>Executive Office of the Governor\\nDearl</td>\n",
       "      <td>NaN</td>\n",
       "      <td>Thank you for your recent correspondence sent...</td>\n",
       "    </tr>\n",
       "    <tr>\n",
       "      <th>26157</th>\n",
       "      <td>32182</td>\n",
       "      <td>16923</td>\n",
       "      <td>From: Stoken, Laura (GOV) Sent: MondayDecember...</td>\n",
       "      <td>Staff_2_0926.txt</td>\n",
       "      <td>Stoken, Laura (GOV)</td>\n",
       "      <td>NaN</td>\n",
       "      <td>[]</td>\n",
       "      <td>[]</td>\n",
       "      <td>Executive Office of the Governor\\n</td>\n",
       "      <td>NaN</td>\n",
       "      <td>Dear Thank you for your recent correspondence ...</td>\n",
       "    </tr>\n",
       "    <tr>\n",
       "      <th>26158</th>\n",
       "      <td>32184</td>\n",
       "      <td>16924</td>\n",
       "      <td>From: Stoken, Laura (GOV) Sent: MondayDecember...</td>\n",
       "      <td>Staff_2_0928.txt</td>\n",
       "      <td>Stoken, Laura (GOV)</td>\n",
       "      <td>NaN</td>\n",
       "      <td>[]</td>\n",
       "      <td>[]</td>\n",
       "      <td>Executive Office of the Governor\\n</td>\n",
       "      <td>NaN</td>\n",
       "      <td>Dear Thank you for your recent correspondence ...</td>\n",
       "    </tr>\n",
       "  </tbody>\n",
       "</table>\n",
       "<p>26159 rows × 11 columns</p>\n",
       "</div>"
      ],
      "text/plain": [
       "       Unnamed: 0  thread_index  \\\n",
       "0               1             0   \n",
       "1               2             0   \n",
       "2               3             0   \n",
       "3               4             0   \n",
       "4               5             0   \n",
       "...           ...           ...   \n",
       "26154       32176         16920   \n",
       "26155       32178         16921   \n",
       "26156       32180         16922   \n",
       "26157       32182         16923   \n",
       "26158       32184         16924   \n",
       "\n",
       "                                            parsed_email      image_lookup  \\\n",
       "0      From: Julie Skubik <julie@mhealthfund.com> Sen...  Staff_4_0000.txt   \n",
       "1      From: Wisniewski; Wendy (GOV) [mailto:wisniews...  Staff_4_0000.txt   \n",
       "2      From: Julie Skubik [mailtotiule@mhealthfundcom...  Staff_4_0000.txt   \n",
       "3      From: Hovey, Amy [mailto Amx Hovex@mailhousego...  Staff_4_0000.txt   \n",
       "4      From: Julie Skubik [mailto iulie@mhezlthfundco...  Staff_4_0000.txt   \n",
       "...                                                  ...               ...   \n",
       "26154  From: Stoken, Laura (GOV) Sent: MondayDecember...  Staff_2_0920.txt   \n",
       "26155  From: Stoken, Laura (GOV) Sent: Mondav_Decembe...  Staff_2_0922.txt   \n",
       "26156  From: Stoken; Laura (GOV) Sent: Monday Decembe...  Staff_2_0924.txt   \n",
       "26157  From: Stoken, Laura (GOV) Sent: MondayDecember...  Staff_2_0926.txt   \n",
       "26158  From: Stoken, Laura (GOV) Sent: MondayDecember...  Staff_2_0928.txt   \n",
       "\n",
       "                                      From                               Sent  \\\n",
       "0      Julie Skubik <julie@mhealthfund.com   Wednesday, June 03, 2015 3.34 PM   \n",
       "1                  Wisniewski; Wendy (GOV)     Wednesday, June 3,2015 3.33 PM   \n",
       "2                             Julie Skubik    Wednesday, June 03,2015 3.30 PM   \n",
       "3                               Hovey, Amy     Wednesday, June 3,2015 1.56 PM   \n",
       "4                             Julie Skubik  Wednesday, June 03, 2015 10.59 AM   \n",
       "...                                    ...                                ...   \n",
       "26154                  Stoken, Laura (GOV)                                NaN   \n",
       "26155                  Stoken, Laura (GOV)                                NaN   \n",
       "26156                  Stoken; Laura (GOV)  Monday December 28, 2015 10.50 AM   \n",
       "26157                  Stoken, Laura (GOV)                                NaN   \n",
       "26158                  Stoken, Laura (GOV)                                NaN   \n",
       "\n",
       "                              To  Cc                                  Subject  \\\n",
       "0               [;, Wendy (GOV)]  []   RE: Flint Water Situation MHEF Meeting   \n",
       "1                 [Julie Skubik]  []   RE: Flint Water Situation MHEF Meeting   \n",
       "2      [Wisniewski, Wendy (GOV)]  []   FW: Flint Water Situation MHEF Meeting   \n",
       "3                 [Julie Skubik]  []   RE: Flint Water Situation MHEF Meeting   \n",
       "4          [Hovey, Amy Subject:]  []       Flint Water Situation MHEF Meeting   \n",
       "...                          ...  ..                                      ...   \n",
       "26154                         []  []       Executive Office of the Governor\\n   \n",
       "26155                         []  []       Executive Office of the Governor\\n   \n",
       "26156                         []  []  Executive Office of the Governor\\nDearl   \n",
       "26157                         []  []       Executive Office of the Governor\\n   \n",
       "26158                         []  []       Executive Office of the Governor\\n   \n",
       "\n",
       "      Attachment                                               Body  \n",
       "0            NaN    \\nThank you. Do you need meto send an invite?\\n  \n",
       "1            NaN  \\nAbsclutely. Here is all of my contact inforr...  \n",
       "2            NaN  \\nHi Wendy- June 10\"* at 11:0O am w} Paul Hill...  \n",
       "3            NaN  \\nHi Julie\\nJune 10t at 11AMwculd be great, Wh...  \n",
       "4            NaN  \\nXi Arny\" would Ilke to set up & meeting with...  \n",
       "...          ...                                                ...  \n",
       "26154        NaN  Dear Thank you for your recent correspondence ...  \n",
       "26155        NaN  Dear Thank you for your recent correspondence ...  \n",
       "26156        NaN   Thank you for your recent correspondence sent...  \n",
       "26157        NaN  Dear Thank you for your recent correspondence ...  \n",
       "26158        NaN  Dear Thank you for your recent correspondence ...  \n",
       "\n",
       "[26159 rows x 11 columns]"
      ]
     },
     "execution_count": 1,
     "metadata": {},
     "output_type": "execute_result"
    }
   ],
   "source": [
    "import pandas as pd\n",
    "from ast import literal_eval\n",
    "\n",
    "metadata = pd.read_csv('./data/michgov6122023.csv').dropna(subset='Body').reset_index(drop=True)\n",
    "for col in ['To', 'Cc']:\n",
    "    metadata[col] = metadata[col].apply(literal_eval)\n",
    "metadata"
   ]
  },
  {
   "cell_type": "code",
   "execution_count": 12,
   "metadata": {},
   "outputs": [],
   "source": [
    "import spacy\n",
    "from spacy.lang.en import English\n",
    "\n",
    "nlp = English()\n",
    "nlp.add_pipe(\"sentencizer\")\n",
    "\n",
    "docs = metadata['Body'].apply(nlp)"
   ]
  },
  {
   "cell_type": "code",
   "execution_count": 15,
   "metadata": {},
   "outputs": [
    {
     "data": {
      "text/html": [
       "<div>\n",
       "<style scoped>\n",
       "    .dataframe tbody tr th:only-of-type {\n",
       "        vertical-align: middle;\n",
       "    }\n",
       "\n",
       "    .dataframe tbody tr th {\n",
       "        vertical-align: top;\n",
       "    }\n",
       "\n",
       "    .dataframe thead th {\n",
       "        text-align: right;\n",
       "    }\n",
       "</style>\n",
       "<table border=\"1\" class=\"dataframe\">\n",
       "  <thead>\n",
       "    <tr style=\"text-align: right;\">\n",
       "      <th></th>\n",
       "      <th>org_index</th>\n",
       "      <th>Body</th>\n",
       "    </tr>\n",
       "  </thead>\n",
       "  <tbody>\n",
       "    <tr>\n",
       "      <th>0</th>\n",
       "      <td>0</td>\n",
       "      <td>\\nThank you.</td>\n",
       "    </tr>\n",
       "    <tr>\n",
       "      <th>1</th>\n",
       "      <td>0</td>\n",
       "      <td>Do you need meto send an invite?</td>\n",
       "    </tr>\n",
       "    <tr>\n",
       "      <th>2</th>\n",
       "      <td>0</td>\n",
       "      <td>\\n</td>\n",
       "    </tr>\n",
       "    <tr>\n",
       "      <th>3</th>\n",
       "      <td>1</td>\n",
       "      <td>\\nAbsclutely.</td>\n",
       "    </tr>\n",
       "    <tr>\n",
       "      <th>4</th>\n",
       "      <td>1</td>\n",
       "      <td>Here is all of my contact inforration:\\nWendy ...</td>\n",
       "    </tr>\n",
       "    <tr>\n",
       "      <th>...</th>\n",
       "      <td>...</td>\n",
       "      <td>...</td>\n",
       "    </tr>\n",
       "    <tr>\n",
       "      <th>111622</th>\n",
       "      <td>26158</td>\n",
       "      <td>During the same months in 2014, the figure inc...</td>\n",
       "    </tr>\n",
       "    <tr>\n",
       "      <th>111623</th>\n",
       "      <td>26158</td>\n",
       "      <td>\\nOn October 21 Governor Snyder announced the ...</td>\n",
       "    </tr>\n",
       "    <tr>\n",
       "      <th>111624</th>\n",
       "      <td>26158</td>\n",
       "      <td>\\nMDHHS continues to provide free water filter...</td>\n",
       "    </tr>\n",
       "    <tr>\n",
       "      <th>111625</th>\n",
       "      <td>26158</td>\n",
       "      <td>For a full list of locations and hours of dist...</td>\n",
       "    </tr>\n",
       "    <tr>\n",
       "      <th>111626</th>\n",
       "      <td>26158</td>\n",
       "      <td>Should you have any further comments, question...</td>\n",
       "    </tr>\n",
       "  </tbody>\n",
       "</table>\n",
       "<p>111627 rows × 2 columns</p>\n",
       "</div>"
      ],
      "text/plain": [
       "        org_index                                               Body\n",
       "0               0                                       \\nThank you.\n",
       "1               0                   Do you need meto send an invite?\n",
       "2               0                                                 \\n\n",
       "3               1                                      \\nAbsclutely.\n",
       "4               1  Here is all of my contact inforration:\\nWendy ...\n",
       "...           ...                                                ...\n",
       "111622      26158  During the same months in 2014, the figure inc...\n",
       "111623      26158  \\nOn October 21 Governor Snyder announced the ...\n",
       "111624      26158  \\nMDHHS continues to provide free water filter...\n",
       "111625      26158  For a full list of locations and hours of dist...\n",
       "111626      26158  Should you have any further comments, question...\n",
       "\n",
       "[111627 rows x 2 columns]"
      ]
     },
     "execution_count": 15,
     "metadata": {},
     "output_type": "execute_result"
    }
   ],
   "source": [
    "sents = docs.apply(lambda x: [s.text for s in x.sents]).explode()\n",
    "sents = sents.reset_index().rename(columns={\n",
    "    'index':'org_index'\n",
    "})\n",
    "sents\n",
    "# sents = [item for sublist in docs for item in sublist]\n",
    "# sents[0]"
   ]
  },
  {
   "cell_type": "code",
   "execution_count": 47,
   "metadata": {},
   "outputs": [],
   "source": [
    "sents.to_csv('./data/fl_sents6132023.csv')"
   ]
  },
  {
   "cell_type": "code",
   "execution_count": 4,
   "metadata": {},
   "outputs": [],
   "source": [
    "from txtai.embeddings import Embeddings\n",
    "embeddings = Embeddings()\n",
    "embeddings.load('./data/fl_index6132023')"
   ]
  },
  {
   "cell_type": "code",
   "execution_count": 16,
   "metadata": {},
   "outputs": [
    {
     "data": {
      "text/plain": [
       "[(49022, 0.8616752624511719),\n",
       " (18164, 0.8591524958610535),\n",
       " (17503, 0.8591524958610535),\n",
       " (538, 0.8591524958610535),\n",
       " (82397, 0.854966938495636)]"
      ]
     },
     "execution_count": 16,
     "metadata": {},
     "output_type": "execute_result"
    }
   ],
   "source": [
    "embeddings.search('query: contaminated water', limit=5)"
   ]
  },
  {
   "cell_type": "code",
   "execution_count": 18,
   "metadata": {},
   "outputs": [
    {
     "data": {
      "text/plain": [
       "'The corrosive attributes of the River water have exacerbated the lead deposit leaching into homeowner pipes and there is concern around lead poisoning; especially for infants.'"
      ]
     },
     "execution_count": 18,
     "metadata": {},
     "output_type": "execute_result"
    }
   ],
   "source": [
    "sents.iloc[82397].Body"
   ]
  },
  {
   "cell_type": "code",
   "execution_count": 20,
   "metadata": {},
   "outputs": [
    {
     "data": {
      "text/plain": [
       "' <baitd@qichigegexsmailtobeird @ichigangew> > wrote:\\nFrank:\\nWe have a situation in Flint, Michigan that is beginning to get national attention and could be an opportunity for Home Depot 18 months ago, Flint switched its water supply from Detroit Water (the distance and pumping costs of going uphill made it quite expensive) to the Flint River as a temporary answer; until they could finish the construction to get their water from Lake Huron (Karagondi Water System) . The corrosive attributes of the River water have exacerbated the lead deposit leaching into homeowner pipes and there is concern around lead poisoning; especially for infants.\\nThe corporate community is rallying to address the problem: Meijer donated 1500 water filters to low income residents and GM is about to announce a donation of between 5,000 and 10,000 filters Ido not yet know where GM is getting the filters from; but I was thinking that Home Depot might want to join the effort with a donation, supply chain discounting assistance, or some combination of activity that could help Flint residents   Harvey Hollins is our point person for this effort, Since he is the Director of Urban Initiatives for Governor Snyder. I have copied him here.\\nIf you could get this into the hands of the right people and see if there is interest in speaking with Harvey; I would be very appreciative. Thanks and take care.\\nRegards,\\nRich\\n'"
      ]
     },
     "execution_count": 20,
     "metadata": {},
     "output_type": "execute_result"
    }
   ],
   "source": [
    "metadata.iloc[sents.iloc[82397].org_index].Body"
   ]
  },
  {
   "cell_type": "code",
   "execution_count": 24,
   "metadata": {},
   "outputs": [
    {
     "data": {
      "text/plain": [
       "'Staff_10_0431.txt'"
      ]
     },
     "execution_count": 24,
     "metadata": {},
     "output_type": "execute_result"
    }
   ],
   "source": [
    "metadata.iloc[sents.iloc[82397].org_index].image_lookup"
   ]
  },
  {
   "cell_type": "code",
   "execution_count": 49,
   "metadata": {},
   "outputs": [],
   "source": [
    "from thefuzz import fuzz\n",
    "\n",
    "to_see = 10\n",
    "uids = embeddings.search('query: contaminated water', limit=to_see+100) # arbitrary\n",
    "strings = [(sents.iloc[uid[0]].Body, uid[0], uid[1]) for uid in uids]\n",
    "unique_strings = []\n",
    "\n",
    "for string in strings:\n",
    "    is_dup = False\n",
    "    for unique in unique_strings:\n",
    "        fuzz_score = fuzz.ratio(string[0], unique[0])\n",
    "        if fuzz_score >= 90:\n",
    "            is_dup = True\n",
    "            break\n",
    "    if not is_dup:\n",
    "        unique_strings.append(string)"
   ]
  },
  {
   "cell_type": "code",
   "execution_count": 50,
   "metadata": {},
   "outputs": [
    {
     "data": {
      "text/plain": [
       "[('\\nhttp Iflintwaterstudy Q.g/20LS/L2Inichigan-healh-departnent-bid-evidence-efhealth-bar-dueto-lead contaminated-water-allewed-false-public-assurances-by-mdeg-and-stonewalled-eutside-Iesearchers?',\n",
       "  49022,\n",
       "  0.8616752624511719),\n",
       " (\"\\nwater; and the city's failure to adequately treat it. #\",\n",
       "  18164,\n",
       "  0.8591524958610535),\n",
       " ('The corrosive attributes of the River water have exacerbated the lead deposit leaching into homeowner pipes and there is concern around lead poisoning; especially for infants.',\n",
       "  82397,\n",
       "  0.854966938495636),\n",
       " ('The people of Flint; Michigan, have been poisoned as a result of the decision to switched from a safe water source to a contaminated water source.',\n",
       "  15527,\n",
       "  0.8537269830703735),\n",
       " ('An occurrence of a waterborne disease outbreak; 4 A failure or significant interruption in key water treatment processes; 5.',\n",
       "  41467,\n",
       "  0.8537167310714722),\n",
       " ('Contaminants thatmay be presert in water include micrchial contaminants Such &s viruses and bacterja, and inorganic contaminants such &s salts and metals; which can occur naturally: Pesticides, herbicides,organic cherical contaminants and radioactive contambnants could also bespresent:\\nIts important to note that drinklng water; including bottled water may reasonably b2 expected to contain at least smallamounts of some contaminants: Butthe presence Qf contarinarts does notnecessarily indicatethatthe water posesa health risk:\\nWill these contaminiants make people sick?',\n",
       "  68823,\n",
       "  0.8532322645187378),\n",
       " ('\\nhttp Jflintwaterstudy Q.g/20] 5/12Imichigan-health-department-hid-evidence-of-health-har-due-to-lead- contaminated-water-allowed-false-public-assurances-by-mdeg-and-stonewalled-outside-researchersl\\nOur story deadline is 3pm today:\\nthanks,\\nRebecca Williams\\nSenior Reporter\\nMichigan Radio\\n(Z34).642-3492 desk\\nIcell\\n2',\n",
       "  49066,\n",
       "  0.853163480758667),\n",
       " ('Lead Contamination in the Water Immediate Relief:\\n8 | ? #',\n",
       "  84881,\n",
       "  0.8522719740867615),\n",
       " ('On August 14, 2014, the water tested positive for fecal coliform bacteria, E.coli,\\nIeading the City to issue a boil water advisory. (',\n",
       "  17187,\n",
       "  0.8514165878295898),\n",
       " ('The dirty water they have been drinking up until this point?',\n",
       "  38983,\n",
       "  0.8507027626037598)]"
      ]
     },
     "execution_count": 50,
     "metadata": {},
     "output_type": "execute_result"
    }
   ],
   "source": [
    "unique_strings[:10]"
   ]
  },
  {
   "cell_type": "code",
   "execution_count": 52,
   "metadata": {},
   "outputs": [
    {
     "data": {
      "text/plain": [
       "[(49022, 0.8616752624511719),\n",
       " (18164, 0.8591524958610535),\n",
       " (82397, 0.854966938495636),\n",
       " (15527, 0.8537269830703735),\n",
       " (41467, 0.8537167310714722),\n",
       " (68823, 0.8532322645187378),\n",
       " (49066, 0.853163480758667),\n",
       " (84881, 0.8522719740867615),\n",
       " (17187, 0.8514165878295898),\n",
       " (38983, 0.8507027626037598)]"
      ]
     },
     "execution_count": 52,
     "metadata": {},
     "output_type": "execute_result"
    }
   ],
   "source": [
    "new_uids = [(u[1], u[2]) for u in unique_strings][:10]\n",
    "new_uids"
   ]
  },
  {
   "cell_type": "code",
   "execution_count": 26,
   "metadata": {},
   "outputs": [
    {
     "data": {
      "text/plain": [
       "'https://rjdgrlmrpwnzwmdwgizseanca.s3.us-east-2.amazonaws.com/Staff_10_jp2/Staff_10_0431.png'"
      ]
     },
     "execution_count": 26,
     "metadata": {},
     "output_type": "execute_result"
    }
   ],
   "source": [
    "dit_logits = pd.read_csv('./data/dit_logits_embedded.csv')\n",
    "dit_logits.aws_path.loc[dit_logits.aws_path.str.contains('Staff_10_0431')].iloc[0]"
   ]
  },
  {
   "cell_type": "code",
   "execution_count": 44,
   "metadata": {},
   "outputs": [],
   "source": [
    "from sentence_transformers import CrossEncoder\n",
    "def retrieval_rerank(query, model_path, rerank_model_path, input_texts, limit):\n",
    "    embeddings = Embeddings()\n",
    "    embeddings.load(model_path)\n",
    "    s = embeddings.search(query, limit=limit)\n",
    "    rerank_model = CrossEncoder(rerank_model_path, max_length=512)\n",
    "    scores = rerank_model.predict([(query, input_texts[tup[0]]) for tup in s])\n",
    "    reranked = [s[score][0] for score in scores.argsort()[::-1]]\n",
    "    return reranked"
   ]
  },
  {
   "cell_type": "code",
   "execution_count": 45,
   "metadata": {},
   "outputs": [
    {
     "data": {
      "text/plain": [
       "[11802, 4595, 17313, 16927, 4863, 6970, 20752, 5833, 16166, 7922]"
      ]
     },
     "execution_count": 45,
     "metadata": {},
     "output_type": "execute_result"
    }
   ],
   "source": [
    "reranked = retrieval_rerank(\n",
    "    'neglience of government officials',\n",
    "    './data/fl_index622023',\n",
    "    'cross-encoder/ms-marco-MiniLM-L-2-v2',\n",
    "    input_texts,\n",
    "    10\n",
    ")\n",
    "reranked"
   ]
  },
  {
   "cell_type": "code",
   "execution_count": 48,
   "metadata": {},
   "outputs": [],
   "source": [
    "def lookup_image(rerank_id):\n",
    "    return dit_logits.aws_path.loc[dit_logits.aws_path.str.contains(metadata.iloc[rerank_id].image_lookup.split('.')[0])].iloc[0]"
   ]
  },
  {
   "cell_type": "code",
   "execution_count": 49,
   "metadata": {},
   "outputs": [
    {
     "data": {
      "text/plain": [
       "['https://rjdgrlmrpwnzwmdwgizseanca.s3.us-east-2.amazonaws.com/Staff_5_jp2/Staff_5_0478.png',\n",
       " 'https://rjdgrlmrpwnzwmdwgizseanca.s3.us-east-2.amazonaws.com/Staff_18_jp2/Staff_18_0031.png',\n",
       " 'https://rjdgrlmrpwnzwmdwgizseanca.s3.us-east-2.amazonaws.com/Staff_17_jp2/Staff_17_0321.png',\n",
       " 'https://rjdgrlmrpwnzwmdwgizseanca.s3.us-east-2.amazonaws.com/Staff_17_jp2/Staff_17_0046.png',\n",
       " 'https://rjdgrlmrpwnzwmdwgizseanca.s3.us-east-2.amazonaws.com/Staff_18_jp2/Staff_18_0230.png',\n",
       " 'https://rjdgrlmrpwnzwmdwgizseanca.s3.us-east-2.amazonaws.com/Staff_12_jp2/Staff_12_0323.png',\n",
       " 'https://rjdgrlmrpwnzwmdwgizseanca.s3.us-east-2.amazonaws.com/Staff_15_jp2/Staff_15_0097.png',\n",
       " 'https://rjdgrlmrpwnzwmdwgizseanca.s3.us-east-2.amazonaws.com/Staff_13_jp2/Staff_13_0708.png',\n",
       " 'https://rjdgrlmrpwnzwmdwgizseanca.s3.us-east-2.amazonaws.com/Staff_14_jp2/Staff_14_1688.png',\n",
       " 'https://rjdgrlmrpwnzwmdwgizseanca.s3.us-east-2.amazonaws.com/Staff_12_jp2/Staff_12_1171.png']"
      ]
     },
     "execution_count": 49,
     "metadata": {},
     "output_type": "execute_result"
    }
   ],
   "source": [
    "[lookup_image(rr) for rr in reranked]"
   ]
  },
  {
   "cell_type": "code",
   "execution_count": 64,
   "metadata": {},
   "outputs": [
    {
     "data": {
      "text/plain": [
       "'Staff_9_0860.txt'"
      ]
     },
     "execution_count": 64,
     "metadata": {},
     "output_type": "execute_result"
    }
   ],
   "source": [
    "thread_id = metadata.iloc[2505].thread_index\n",
    "metadata.iloc[metadata.groupby('thread_index').groups[thread_id]].image_lookup.unique()[0]"
   ]
  },
  {
   "cell_type": "code",
   "execution_count": null,
   "metadata": {},
   "outputs": [],
   "source": []
  }
 ],
 "metadata": {
  "kernelspec": {
   "display_name": "Python 3.10.10 ('st_apps')",
   "language": "python",
   "name": "python3"
  },
  "language_info": {
   "codemirror_mode": {
    "name": "ipython",
    "version": 3
   },
   "file_extension": ".py",
   "mimetype": "text/x-python",
   "name": "python",
   "nbconvert_exporter": "python",
   "pygments_lexer": "ipython3",
   "version": "3.10.10"
  },
  "orig_nbformat": 4,
  "vscode": {
   "interpreter": {
    "hash": "b02a12b75d1d354eab4295adc75e8ea276850f0d00a5639691963410fb329488"
   }
  }
 },
 "nbformat": 4,
 "nbformat_minor": 2
}
