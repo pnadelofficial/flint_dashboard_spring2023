{
 "cells": [
  {
   "cell_type": "code",
   "execution_count": 1,
   "metadata": {},
   "outputs": [
    {
     "data": {
      "text/html": [
       "<div>\n",
       "<style scoped>\n",
       "    .dataframe tbody tr th:only-of-type {\n",
       "        vertical-align: middle;\n",
       "    }\n",
       "\n",
       "    .dataframe tbody tr th {\n",
       "        vertical-align: top;\n",
       "    }\n",
       "\n",
       "    .dataframe thead th {\n",
       "        text-align: right;\n",
       "    }\n",
       "</style>\n",
       "<table border=\"1\" class=\"dataframe\">\n",
       "  <thead>\n",
       "    <tr style=\"text-align: right;\">\n",
       "      <th></th>\n",
       "      <th>Unnamed: 0</th>\n",
       "      <th>thread_index</th>\n",
       "      <th>parsed_email</th>\n",
       "      <th>image_lookup</th>\n",
       "      <th>From</th>\n",
       "      <th>Sent</th>\n",
       "      <th>To</th>\n",
       "      <th>Cc</th>\n",
       "      <th>Subject</th>\n",
       "      <th>Attachment</th>\n",
       "      <th>Body</th>\n",
       "    </tr>\n",
       "  </thead>\n",
       "  <tbody>\n",
       "    <tr>\n",
       "      <th>0</th>\n",
       "      <td>1</td>\n",
       "      <td>0</td>\n",
       "      <td>From: Julie Skubik &lt;julie@mhealthfund.com&gt; Sen...</td>\n",
       "      <td>Staff_4_0000.txt</td>\n",
       "      <td>Julie Skubik &lt;julie@mhealthfund.com</td>\n",
       "      <td>Wednesday, June 03, 2015 3.34 PM</td>\n",
       "      <td>[;, Wendy (GOV)]</td>\n",
       "      <td>[]</td>\n",
       "      <td>RE: Flint Water Situation MHEF Meeting</td>\n",
       "      <td>NaN</td>\n",
       "      <td>\\nThank you. Do you need meto send an invite?\\n</td>\n",
       "    </tr>\n",
       "    <tr>\n",
       "      <th>1</th>\n",
       "      <td>2</td>\n",
       "      <td>0</td>\n",
       "      <td>From: Wisniewski; Wendy (GOV) [mailto:wisniews...</td>\n",
       "      <td>Staff_4_0000.txt</td>\n",
       "      <td>Wisniewski; Wendy (GOV)</td>\n",
       "      <td>Wednesday, June 3,2015 3.33 PM</td>\n",
       "      <td>[Julie Skubik]</td>\n",
       "      <td>[]</td>\n",
       "      <td>RE: Flint Water Situation MHEF Meeting</td>\n",
       "      <td>NaN</td>\n",
       "      <td>\\nAbsclutely. Here is all of my contact inforr...</td>\n",
       "    </tr>\n",
       "    <tr>\n",
       "      <th>2</th>\n",
       "      <td>3</td>\n",
       "      <td>0</td>\n",
       "      <td>From: Julie Skubik [mailtotiule@mhealthfundcom...</td>\n",
       "      <td>Staff_4_0000.txt</td>\n",
       "      <td>Julie Skubik</td>\n",
       "      <td>Wednesday, June 03,2015 3.30 PM</td>\n",
       "      <td>[Wisniewski, Wendy (GOV)]</td>\n",
       "      <td>[]</td>\n",
       "      <td>FW: Flint Water Situation MHEF Meeting</td>\n",
       "      <td>NaN</td>\n",
       "      <td>\\nHi Wendy- June 10\"* at 11:0O am w} Paul Hill...</td>\n",
       "    </tr>\n",
       "    <tr>\n",
       "      <th>3</th>\n",
       "      <td>4</td>\n",
       "      <td>0</td>\n",
       "      <td>From: Hovey, Amy [mailto Amx Hovex@mailhousego...</td>\n",
       "      <td>Staff_4_0000.txt</td>\n",
       "      <td>Hovey, Amy</td>\n",
       "      <td>Wednesday, June 3,2015 1.56 PM</td>\n",
       "      <td>[Julie Skubik]</td>\n",
       "      <td>[]</td>\n",
       "      <td>RE: Flint Water Situation MHEF Meeting</td>\n",
       "      <td>NaN</td>\n",
       "      <td>\\nHi Julie\\nJune 10t at 11AMwculd be great, Wh...</td>\n",
       "    </tr>\n",
       "    <tr>\n",
       "      <th>4</th>\n",
       "      <td>5</td>\n",
       "      <td>0</td>\n",
       "      <td>From: Julie Skubik [mailto iulie@mhezlthfundco...</td>\n",
       "      <td>Staff_4_0000.txt</td>\n",
       "      <td>Julie Skubik</td>\n",
       "      <td>Wednesday, June 03, 2015 10.59 AM</td>\n",
       "      <td>[Hovey, Amy Subject:]</td>\n",
       "      <td>[]</td>\n",
       "      <td>Flint Water Situation MHEF Meeting</td>\n",
       "      <td>NaN</td>\n",
       "      <td>\\nXi Arny\" would Ilke to set up &amp; meeting with...</td>\n",
       "    </tr>\n",
       "    <tr>\n",
       "      <th>...</th>\n",
       "      <td>...</td>\n",
       "      <td>...</td>\n",
       "      <td>...</td>\n",
       "      <td>...</td>\n",
       "      <td>...</td>\n",
       "      <td>...</td>\n",
       "      <td>...</td>\n",
       "      <td>...</td>\n",
       "      <td>...</td>\n",
       "      <td>...</td>\n",
       "      <td>...</td>\n",
       "    </tr>\n",
       "    <tr>\n",
       "      <th>26154</th>\n",
       "      <td>32176</td>\n",
       "      <td>16920</td>\n",
       "      <td>From: Stoken, Laura (GOV) Sent: MondayDecember...</td>\n",
       "      <td>Staff_2_0920.txt</td>\n",
       "      <td>Stoken, Laura (GOV)</td>\n",
       "      <td>NaN</td>\n",
       "      <td>[]</td>\n",
       "      <td>[]</td>\n",
       "      <td>Executive Office of the Governor\\n</td>\n",
       "      <td>NaN</td>\n",
       "      <td>Dear Thank you for your recent correspondence ...</td>\n",
       "    </tr>\n",
       "    <tr>\n",
       "      <th>26155</th>\n",
       "      <td>32178</td>\n",
       "      <td>16921</td>\n",
       "      <td>From: Stoken, Laura (GOV) Sent: Mondav_Decembe...</td>\n",
       "      <td>Staff_2_0922.txt</td>\n",
       "      <td>Stoken, Laura (GOV)</td>\n",
       "      <td>NaN</td>\n",
       "      <td>[]</td>\n",
       "      <td>[]</td>\n",
       "      <td>Executive Office of the Governor\\n</td>\n",
       "      <td>NaN</td>\n",
       "      <td>Dear Thank you for your recent correspondence ...</td>\n",
       "    </tr>\n",
       "    <tr>\n",
       "      <th>26156</th>\n",
       "      <td>32180</td>\n",
       "      <td>16922</td>\n",
       "      <td>From: Stoken; Laura (GOV) Sent: Monday Decembe...</td>\n",
       "      <td>Staff_2_0924.txt</td>\n",
       "      <td>Stoken; Laura (GOV)</td>\n",
       "      <td>Monday December 28, 2015 10.50 AM</td>\n",
       "      <td>[]</td>\n",
       "      <td>[]</td>\n",
       "      <td>Executive Office of the Governor\\nDearl</td>\n",
       "      <td>NaN</td>\n",
       "      <td>Thank you for your recent correspondence sent...</td>\n",
       "    </tr>\n",
       "    <tr>\n",
       "      <th>26157</th>\n",
       "      <td>32182</td>\n",
       "      <td>16923</td>\n",
       "      <td>From: Stoken, Laura (GOV) Sent: MondayDecember...</td>\n",
       "      <td>Staff_2_0926.txt</td>\n",
       "      <td>Stoken, Laura (GOV)</td>\n",
       "      <td>NaN</td>\n",
       "      <td>[]</td>\n",
       "      <td>[]</td>\n",
       "      <td>Executive Office of the Governor\\n</td>\n",
       "      <td>NaN</td>\n",
       "      <td>Dear Thank you for your recent correspondence ...</td>\n",
       "    </tr>\n",
       "    <tr>\n",
       "      <th>26158</th>\n",
       "      <td>32184</td>\n",
       "      <td>16924</td>\n",
       "      <td>From: Stoken, Laura (GOV) Sent: MondayDecember...</td>\n",
       "      <td>Staff_2_0928.txt</td>\n",
       "      <td>Stoken, Laura (GOV)</td>\n",
       "      <td>NaN</td>\n",
       "      <td>[]</td>\n",
       "      <td>[]</td>\n",
       "      <td>Executive Office of the Governor\\n</td>\n",
       "      <td>NaN</td>\n",
       "      <td>Dear Thank you for your recent correspondence ...</td>\n",
       "    </tr>\n",
       "  </tbody>\n",
       "</table>\n",
       "<p>26159 rows × 11 columns</p>\n",
       "</div>"
      ],
      "text/plain": [
       "       Unnamed: 0  thread_index  \\\n",
       "0               1             0   \n",
       "1               2             0   \n",
       "2               3             0   \n",
       "3               4             0   \n",
       "4               5             0   \n",
       "...           ...           ...   \n",
       "26154       32176         16920   \n",
       "26155       32178         16921   \n",
       "26156       32180         16922   \n",
       "26157       32182         16923   \n",
       "26158       32184         16924   \n",
       "\n",
       "                                            parsed_email      image_lookup  \\\n",
       "0      From: Julie Skubik <julie@mhealthfund.com> Sen...  Staff_4_0000.txt   \n",
       "1      From: Wisniewski; Wendy (GOV) [mailto:wisniews...  Staff_4_0000.txt   \n",
       "2      From: Julie Skubik [mailtotiule@mhealthfundcom...  Staff_4_0000.txt   \n",
       "3      From: Hovey, Amy [mailto Amx Hovex@mailhousego...  Staff_4_0000.txt   \n",
       "4      From: Julie Skubik [mailto iulie@mhezlthfundco...  Staff_4_0000.txt   \n",
       "...                                                  ...               ...   \n",
       "26154  From: Stoken, Laura (GOV) Sent: MondayDecember...  Staff_2_0920.txt   \n",
       "26155  From: Stoken, Laura (GOV) Sent: Mondav_Decembe...  Staff_2_0922.txt   \n",
       "26156  From: Stoken; Laura (GOV) Sent: Monday Decembe...  Staff_2_0924.txt   \n",
       "26157  From: Stoken, Laura (GOV) Sent: MondayDecember...  Staff_2_0926.txt   \n",
       "26158  From: Stoken, Laura (GOV) Sent: MondayDecember...  Staff_2_0928.txt   \n",
       "\n",
       "                                      From                               Sent  \\\n",
       "0      Julie Skubik <julie@mhealthfund.com   Wednesday, June 03, 2015 3.34 PM   \n",
       "1                  Wisniewski; Wendy (GOV)     Wednesday, June 3,2015 3.33 PM   \n",
       "2                             Julie Skubik    Wednesday, June 03,2015 3.30 PM   \n",
       "3                               Hovey, Amy     Wednesday, June 3,2015 1.56 PM   \n",
       "4                             Julie Skubik  Wednesday, June 03, 2015 10.59 AM   \n",
       "...                                    ...                                ...   \n",
       "26154                  Stoken, Laura (GOV)                                NaN   \n",
       "26155                  Stoken, Laura (GOV)                                NaN   \n",
       "26156                  Stoken; Laura (GOV)  Monday December 28, 2015 10.50 AM   \n",
       "26157                  Stoken, Laura (GOV)                                NaN   \n",
       "26158                  Stoken, Laura (GOV)                                NaN   \n",
       "\n",
       "                              To  Cc                                  Subject  \\\n",
       "0               [;, Wendy (GOV)]  []   RE: Flint Water Situation MHEF Meeting   \n",
       "1                 [Julie Skubik]  []   RE: Flint Water Situation MHEF Meeting   \n",
       "2      [Wisniewski, Wendy (GOV)]  []   FW: Flint Water Situation MHEF Meeting   \n",
       "3                 [Julie Skubik]  []   RE: Flint Water Situation MHEF Meeting   \n",
       "4          [Hovey, Amy Subject:]  []       Flint Water Situation MHEF Meeting   \n",
       "...                          ...  ..                                      ...   \n",
       "26154                         []  []       Executive Office of the Governor\\n   \n",
       "26155                         []  []       Executive Office of the Governor\\n   \n",
       "26156                         []  []  Executive Office of the Governor\\nDearl   \n",
       "26157                         []  []       Executive Office of the Governor\\n   \n",
       "26158                         []  []       Executive Office of the Governor\\n   \n",
       "\n",
       "      Attachment                                               Body  \n",
       "0            NaN    \\nThank you. Do you need meto send an invite?\\n  \n",
       "1            NaN  \\nAbsclutely. Here is all of my contact inforr...  \n",
       "2            NaN  \\nHi Wendy- June 10\"* at 11:0O am w} Paul Hill...  \n",
       "3            NaN  \\nHi Julie\\nJune 10t at 11AMwculd be great, Wh...  \n",
       "4            NaN  \\nXi Arny\" would Ilke to set up & meeting with...  \n",
       "...          ...                                                ...  \n",
       "26154        NaN  Dear Thank you for your recent correspondence ...  \n",
       "26155        NaN  Dear Thank you for your recent correspondence ...  \n",
       "26156        NaN   Thank you for your recent correspondence sent...  \n",
       "26157        NaN  Dear Thank you for your recent correspondence ...  \n",
       "26158        NaN  Dear Thank you for your recent correspondence ...  \n",
       "\n",
       "[26159 rows x 11 columns]"
      ]
     },
     "execution_count": 1,
     "metadata": {},
     "output_type": "execute_result"
    }
   ],
   "source": [
    "import pandas as pd\n",
    "from ast import literal_eval\n",
    "\n",
    "metadata = pd.read_csv('./data/michgov6122023.csv').dropna(subset='Body').reset_index(drop=True)\n",
    "for col in ['To', 'Cc']:\n",
    "    metadata[col] = metadata[col].apply(literal_eval)\n",
    "metadata"
   ]
  },
  {
   "cell_type": "code",
   "execution_count": 2,
   "metadata": {},
   "outputs": [],
   "source": [
    "input_texts = list(metadata['Body'])"
   ]
  },
  {
   "cell_type": "code",
   "execution_count": 4,
   "metadata": {},
   "outputs": [],
   "source": [
    "from txtai.embeddings import Embeddings\n",
    "embeddings = Embeddings()\n",
    "embeddings.load('./data/fl_index6122023')"
   ]
  },
  {
   "cell_type": "code",
   "execution_count": 25,
   "metadata": {},
   "outputs": [
    {
     "data": {
      "text/plain": [
       "[(2505, 0.8385169506072998),\n",
       " (16264, 0.8384946584701538),\n",
       " (18856, 0.8383601903915405),\n",
       " (15122, 0.8372467756271362),\n",
       " (14082, 0.8372388482093811)]"
      ]
     },
     "execution_count": 25,
     "metadata": {},
     "output_type": "execute_result"
    }
   ],
   "source": [
    "embeddings.search('query: contaminated water', limit=5)"
   ]
  },
  {
   "cell_type": "code",
   "execution_count": 29,
   "metadata": {},
   "outputs": [
    {
     "data": {
      "text/plain": [
       "'Redacted\\nOUMI Update (Hollins)\\n*Flint (waiting for report from DEQ on water situation)'"
      ]
     },
     "execution_count": 29,
     "metadata": {},
     "output_type": "execute_result"
    }
   ],
   "source": [
    "input_texts[14082]"
   ]
  },
  {
   "cell_type": "code",
   "execution_count": 30,
   "metadata": {},
   "outputs": [
    {
     "data": {
      "text/plain": [
       "Unnamed: 0                                                   3202\n",
       "thread_index                                                 1374\n",
       "parsed_email    From: Murray, David (GOV) Sent: Thursday; Sept...\n",
       "image_lookup                                     Staff_9_0860.txt\n",
       "From                                          Murray, David (GOV)\n",
       "Sent                                  Thursday; September 24,2015\n",
       "To                                        [Ackerman, Darin (GOV)]\n",
       "Cc                                                             []\n",
       "Subject                                                  FW: Data\n",
       "Attachment                                                    NaN\n",
       "Body             Attachments: Pediatric Lead Exposure Flint Wa...\n",
       "Name: 2505, dtype: object"
      ]
     },
     "execution_count": 30,
     "metadata": {},
     "output_type": "execute_result"
    }
   ],
   "source": [
    "metadata.iloc[2505]"
   ]
  },
  {
   "cell_type": "code",
   "execution_count": 35,
   "metadata": {},
   "outputs": [
    {
     "data": {
      "text/plain": [
       "'https://rjdgrlmrpwnzwmdwgizseanca.s3.us-east-2.amazonaws.com/Staff_9_jp2/Staff_9_0860.png'"
      ]
     },
     "execution_count": 35,
     "metadata": {},
     "output_type": "execute_result"
    }
   ],
   "source": [
    "dit_logits = pd.read_csv('./data/dit_logits_embedded.csv')\n",
    "dit_logits.aws_path.loc[dit_logits.aws_path.str.contains('Staff_9_0860')].iloc[0]"
   ]
  },
  {
   "cell_type": "code",
   "execution_count": 44,
   "metadata": {},
   "outputs": [],
   "source": [
    "from sentence_transformers import CrossEncoder\n",
    "def retrieval_rerank(query, model_path, rerank_model_path, input_texts, limit):\n",
    "    embeddings = Embeddings()\n",
    "    embeddings.load(model_path)\n",
    "    s = embeddings.search(query, limit=limit)\n",
    "    rerank_model = CrossEncoder(rerank_model_path, max_length=512)\n",
    "    scores = rerank_model.predict([(query, input_texts[tup[0]]) for tup in s])\n",
    "    reranked = [s[score][0] for score in scores.argsort()[::-1]]\n",
    "    return reranked"
   ]
  },
  {
   "cell_type": "code",
   "execution_count": 45,
   "metadata": {},
   "outputs": [
    {
     "data": {
      "text/plain": [
       "[11802, 4595, 17313, 16927, 4863, 6970, 20752, 5833, 16166, 7922]"
      ]
     },
     "execution_count": 45,
     "metadata": {},
     "output_type": "execute_result"
    }
   ],
   "source": [
    "reranked = retrieval_rerank(\n",
    "    'neglience of government officials',\n",
    "    './data/fl_index622023',\n",
    "    'cross-encoder/ms-marco-MiniLM-L-2-v2',\n",
    "    input_texts,\n",
    "    10\n",
    ")\n",
    "reranked"
   ]
  },
  {
   "cell_type": "code",
   "execution_count": 48,
   "metadata": {},
   "outputs": [],
   "source": [
    "def lookup_image(rerank_id):\n",
    "    return dit_logits.aws_path.loc[dit_logits.aws_path.str.contains(metadata.iloc[rerank_id].image_lookup.split('.')[0])].iloc[0]"
   ]
  },
  {
   "cell_type": "code",
   "execution_count": 49,
   "metadata": {},
   "outputs": [
    {
     "data": {
      "text/plain": [
       "['https://rjdgrlmrpwnzwmdwgizseanca.s3.us-east-2.amazonaws.com/Staff_5_jp2/Staff_5_0478.png',\n",
       " 'https://rjdgrlmrpwnzwmdwgizseanca.s3.us-east-2.amazonaws.com/Staff_18_jp2/Staff_18_0031.png',\n",
       " 'https://rjdgrlmrpwnzwmdwgizseanca.s3.us-east-2.amazonaws.com/Staff_17_jp2/Staff_17_0321.png',\n",
       " 'https://rjdgrlmrpwnzwmdwgizseanca.s3.us-east-2.amazonaws.com/Staff_17_jp2/Staff_17_0046.png',\n",
       " 'https://rjdgrlmrpwnzwmdwgizseanca.s3.us-east-2.amazonaws.com/Staff_18_jp2/Staff_18_0230.png',\n",
       " 'https://rjdgrlmrpwnzwmdwgizseanca.s3.us-east-2.amazonaws.com/Staff_12_jp2/Staff_12_0323.png',\n",
       " 'https://rjdgrlmrpwnzwmdwgizseanca.s3.us-east-2.amazonaws.com/Staff_15_jp2/Staff_15_0097.png',\n",
       " 'https://rjdgrlmrpwnzwmdwgizseanca.s3.us-east-2.amazonaws.com/Staff_13_jp2/Staff_13_0708.png',\n",
       " 'https://rjdgrlmrpwnzwmdwgizseanca.s3.us-east-2.amazonaws.com/Staff_14_jp2/Staff_14_1688.png',\n",
       " 'https://rjdgrlmrpwnzwmdwgizseanca.s3.us-east-2.amazonaws.com/Staff_12_jp2/Staff_12_1171.png']"
      ]
     },
     "execution_count": 49,
     "metadata": {},
     "output_type": "execute_result"
    }
   ],
   "source": [
    "[lookup_image(rr) for rr in reranked]"
   ]
  },
  {
   "cell_type": "code",
   "execution_count": 64,
   "metadata": {},
   "outputs": [
    {
     "data": {
      "text/plain": [
       "'Staff_9_0860.txt'"
      ]
     },
     "execution_count": 64,
     "metadata": {},
     "output_type": "execute_result"
    }
   ],
   "source": [
    "thread_id = metadata.iloc[2505].thread_index\n",
    "metadata.iloc[metadata.groupby('thread_index').groups[thread_id]].image_lookup.unique()[0]"
   ]
  },
  {
   "cell_type": "code",
   "execution_count": null,
   "metadata": {},
   "outputs": [],
   "source": []
  }
 ],
 "metadata": {
  "kernelspec": {
   "display_name": "Python 3.10.10 ('st_apps')",
   "language": "python",
   "name": "python3"
  },
  "language_info": {
   "codemirror_mode": {
    "name": "ipython",
    "version": 3
   },
   "file_extension": ".py",
   "mimetype": "text/x-python",
   "name": "python",
   "nbconvert_exporter": "python",
   "pygments_lexer": "ipython3",
   "version": "3.10.10"
  },
  "orig_nbformat": 4,
  "vscode": {
   "interpreter": {
    "hash": "b02a12b75d1d354eab4295adc75e8ea276850f0d00a5639691963410fb329488"
   }
  }
 },
 "nbformat": 4,
 "nbformat_minor": 2
}
